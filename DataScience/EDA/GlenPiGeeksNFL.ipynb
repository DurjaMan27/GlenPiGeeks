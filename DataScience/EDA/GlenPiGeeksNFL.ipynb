{
 "cells": [
  {
   "cell_type": "code",
   "execution_count": 19,
   "metadata": {},
   "outputs": [],
   "source": [
    "import pandas as pd\n"
   ]
  },
  {
   "cell_type": "code",
   "execution_count": 20,
   "metadata": {},
   "outputs": [],
   "source": [
    "nfl_df = pd.read_csv('/home/ec2-user/SageMaker/GlenPiGeeks/DataScience/Data/NFL_2015-2016_Predictions&Analysis-QBPrediction.csv', header = 1)\n"
   ]
  },
  {
   "cell_type": "code",
   "execution_count": 22,
   "metadata": {},
   "outputs": [
    {
     "name": "stdout",
     "output_type": "stream",
     "text": [
      "   Unnamed: 0  Unnamed: 1               Name                  Team  \\\n",
      "0         NaN           1      Aaron Rodgers     Green Bay Packers   \n",
      "1         NaN           2     Peyton Manning        Denver Broncos   \n",
      "2         NaN           3          Tony Romo        Dallas Cowboys   \n",
      "3         NaN           4     Russell Wilson      Seattle Seahawks   \n",
      "4         NaN           5        Andrew Luck    Indianapolis Colts   \n",
      "5         NaN           6  Ben Rothlisberger   Pittsburgh Steelers   \n",
      "6         NaN           7          Tom Brady  New England Patriots   \n",
      "7         NaN           8         Joe Flacco      Baltimore Ravens   \n",
      "8         NaN           9         Drew Brees    New Orleans Saints   \n",
      "9         NaN          10         Cam Newton     Carolina Panthers   \n",
      "\n",
      "   Unnamed: 4 Passing Yards NFL Rank  Unnamed: 7     Touchdowns NFL Rank.1  \\\n",
      "0         NaN      4381 yds      7th         NaN  38 touchdowns        2nd   \n",
      "1         NaN      4727 yds      4th         NaN  37 touchdowns        3rd   \n",
      "2         NaN      3705 yds     14th         NaN  34 touchdowns        4th   \n",
      "3         NaN      3475 yds     15th         NaN  20 touchdowns       16th   \n",
      "4         NaN      4761 yds      3rd         NaN  40 touchdowns        1st   \n",
      "5         NaN      4952 yds    T-1st         NaN  32 touchdowns        6th   \n",
      "6         NaN      4109 yds     10th         NaN  33 touchdowns        5th   \n",
      "7         NaN      3986 yds     12th         NaN  27 touchdowns     T-12th   \n",
      "8         NaN      4952 yds    T-1st         NaN  30 touchdowns      T-8th   \n",
      "9         NaN      3127 yds     21st         NaN  18 touchdowns     T-19th   \n",
      "\n",
      "   Unnamed: 10     Interceptions NFL Rank.2  Unnamed: 13      Sacks NFL Rank.3  \n",
      "0          NaN   5 interceptions        2nd          NaN   28 sacks     T-12th  \n",
      "1          NaN  15 interceptions       26th          NaN   17 sacks        3rd  \n",
      "2          NaN   9 interceptions      T-8th          NaN  29  sacks     T-15th  \n",
      "3          NaN   7 interceptions      T-5th          NaN   40 sacks       27th  \n",
      "4          NaN  16 interceptions       27th          NaN   27 sacks       11th  \n",
      "5          NaN   9 interceptions      T-8th          NaN   33 sacks     T-19th  \n",
      "6          NaN   9 interceptions      T-8th          NaN   21 sacks      T-6th  \n",
      "7          NaN  12 interceptions     T-15th          NaN   19 sacks        5th  \n",
      "8          NaN  17 interceptions     T-28th          NaN   29 sacks     T-15th  \n",
      "9          NaN  12 interceptions     T-15th          NaN   38 sacks     T-24th  \n"
     ]
    }
   ],
   "source": [
    "print(nfl_df.head(10))"
   ]
  },
  {
   "cell_type": "code",
   "execution_count": null,
   "metadata": {},
   "outputs": [],
   "source": []
  }
 ],
 "metadata": {
  "kernelspec": {
   "display_name": "conda_python3",
   "language": "python",
   "name": "conda_python3"
  },
  "language_info": {
   "codemirror_mode": {
    "name": "ipython",
    "version": 3
   },
   "file_extension": ".py",
   "mimetype": "text/x-python",
   "name": "python",
   "nbconvert_exporter": "python",
   "pygments_lexer": "ipython3",
   "version": "3.6.5"
  }
 },
 "nbformat": 4,
 "nbformat_minor": 4
}
