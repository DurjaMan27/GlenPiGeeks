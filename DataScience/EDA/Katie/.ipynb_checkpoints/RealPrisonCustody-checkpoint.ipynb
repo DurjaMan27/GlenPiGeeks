{
 "cells": [
  {
   "cell_type": "code",
   "execution_count": 250,
   "metadata": {},
   "outputs": [
    {
     "name": "stdout",
     "output_type": "stream",
     "text": [
      "  jurisdiction    2001    2002    2003    2004    2005    2006    2007  \\\n",
      "0      Federal  149852  158216  168144  177600  186364  190844  197285   \n",
      "1      Alabama   24741   25100   27614   25635   24315   24103   25253   \n",
      "2       Alaska    4570    4351    4472    4534    4798    5052    5151   \n",
      "3      Arizona   27710   29359   31084   32384   33345   35752   37700   \n",
      "4     Arkansas   11489   11849   12068   12577   12455   12854   13275   \n",
      "5   California  157142  159695  161785  163939  168035  172298  171444   \n",
      "6     Colorado   17278   18636   19450   19655   21063   22051   22666   \n",
      "7  Connecticut   17507   18716   18023   17993   17928   18902   19438   \n",
      "8     Delaware    6841    6637    6630    6753    6788    7021    7110   \n",
      "9      Florida   72404   75210   79594   83165   86559   90377   95187   \n",
      "\n",
      "     2008    2009    2010    2011    2012    2013    2014    2015    2016  \n",
      "0  198414  205087  206968  214774  216915  214989  209561  195622  188311  \n",
      "1   25363   27241   27345   26813   26768   26825   26145   25212   23745  \n",
      "2    4997    5472    5369    6216    6308    5081    6323    5247    4378  \n",
      "3   39455   40544   40130   39949   40013   41031   42136   42204   42248  \n",
      "4   13135   13338   14192   14090   14043   14295   15250   15784   15833  \n",
      "5  171085  168830  162821  147578  132935  134339  134430  127815  129416  \n",
      "6   23211   22725   22752   21862   20328   20184   20469   19959   19486  \n",
      "7   19905   18938   18629   17877   17164   17319   16814   16024   15040  \n",
      "8    6944    6581    6378    6546    6730    6798    6730    6437    6334  \n",
      "9   99878  101373  102070  100861   99835  100940  100873   99485   98010  \n",
      "<class 'pandas.core.frame.DataFrame'>\n",
      "RangeIndex: 51 entries, 0 to 50\n",
      "Data columns (total 17 columns):\n",
      "jurisdiction    51 non-null object\n",
      "2001            51 non-null int64\n",
      "2002            51 non-null int64\n",
      "2003            51 non-null int64\n",
      "2004            51 non-null int64\n",
      "2005            51 non-null int64\n",
      "2006            51 non-null int64\n",
      "2007            51 non-null int64\n",
      "2008            51 non-null int64\n",
      "2009            51 non-null int64\n",
      "2010            51 non-null int64\n",
      "2011            51 non-null int64\n",
      "2012            51 non-null int64\n",
      "2013            51 non-null int64\n",
      "2014            51 non-null int64\n",
      "2015            51 non-null int64\n",
      "2016            51 non-null int64\n",
      "dtypes: int64(16), object(1)\n",
      "memory usage: 6.9+ KB\n",
      "None\n"
     ]
    },
    {
     "data": {
      "text/plain": [
       "<matplotlib.axes._subplots.AxesSubplot at 0x7f5ab82673c8>"
      ]
     },
     "execution_count": 250,
     "metadata": {},
     "output_type": "execute_result"
    },
    {
     "data": {
      "image/png": "[encoded data removed]",
      "text/plain": [
       "<Figure size 432x288 with 1 Axes>"
      ]
     },
     "metadata": {},
     "output_type": "display_data"
    }
   ],
   "source": [
    "import pandas as pd\n",
    "import matplotlib.pyplot as plt\n",
    "pc_df = pd.read_csv('/home/ec2-user/SageMaker/GlenPiGeeks/DataScience/Data/Katie/prison_custody_by_state.csv', thousands=',', header = 0)\n",
    "pc_df.drop(pc_df.columns[1], axis=1, inplace=True)\n",
    "#pc_df.set_index('jurisdiction')\n",
    "#pc_df.drop(pc_df.columns[0], axis=1, inplace=True)\n",
    "print(pc_df.head(10))\n",
    "#pc_df['jurisdiction']=pc_df['jurisdiction'].astype(str)\n",
    "print(pc_df.info())\n",
    "#pc_df=pc_df.astype(float)\n",
    "#pc_df.plot(type='bar', x='2001', y='2002', ax=ax)\n",
    "pc_df[['2001']].plot(kind='bar', x='jurisdiction')"
   ]
  },
  {
   "cell_type": "code",
   "execution_count": null,
   "metadata": {},
   "outputs": [],
   "source": []
  }
 ],
 "metadata": {
  "kernelspec": {
   "display_name": "conda_python3",
   "language": "python",
   "name": "conda_python3"
  },
  "language_info": {
   "codemirror_mode": {
    "name": "ipython",
    "version": 3
   },
   "file_extension": ".py",
   "mimetype": "text/x-python",
   "name": "python",
   "nbconvert_exporter": "python",
   "pygments_lexer": "ipython3",
   "version": "3.6.5"
  }
 },
 "nbformat": 4,
 "nbformat_minor": 4
}
