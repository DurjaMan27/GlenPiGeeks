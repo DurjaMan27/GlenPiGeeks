{
 "cells": [
  {
   "cell_type": "code",
   "execution_count": 19,
   "metadata": {},
   "outputs": [],
   "source": [
    "import pandas as pd\n"
   ]
  },
  {
   "cell_type": "code",
   "execution_count": 24,
   "metadata": {},
   "outputs": [],
   "source": [
    "nfl_df = pd.read_csv('/home/ec2-user/SageMaker/GlenPiGeeks/DataScience/Data/NFL 2015 2016 Predictions_Analysis_QB Prediction_2015_2016.csv', header = 1)\n"
   ]
  },
  {
   "cell_type": "code",
   "execution_count": 21,
   "metadata": {},
   "outputs": [
    {
     "name": "stdout",
     "output_type": "stream",
     "text": [
      "   Unnamed: 0  Unnamed: 1               Name                  Team  \\\n",
      "0         NaN           1      Aaron Rodgers     Green Bay Packers   \n",
      "1         NaN           2     Peyton Manning        Denver Broncos   \n",
      "2         NaN           3          Tony Romo        Dallas Cowboys   \n",
      "3         NaN           4     Russell Wilson      Seattle Seahawks   \n",
      "4         NaN           5        Andrew Luck    Indianapolis Colts   \n",
      "5         NaN           6  Ben Rothlisberger   Pittsburgh Steelers   \n",
      "6         NaN           7          Tom Brady  New England Patriots   \n",
      "7         NaN           8         Joe Flacco      Baltimore Ravens   \n",
      "8         NaN           9         Drew Brees    New Orleans Saints   \n",
      "9         NaN          10         Cam Newton     Carolina Panthers   \n",
      "\n",
      "   Unnamed: 4  Passing Yards  NFL Rank  Unnamed: 7  Touchdowns  NFL Rank.1  \\\n",
      "0         NaN           4381         7         NaN          38           2   \n",
      "1         NaN           4727         4         NaN          37           3   \n",
      "2         NaN           3705        14         NaN          34           4   \n",
      "3         NaN           3475        15         NaN          20          16   \n",
      "4         NaN           4761         3         NaN          40           1   \n",
      "5         NaN           4952         1         NaN          32           6   \n",
      "6         NaN           4109        10         NaN          33           5   \n",
      "7         NaN           3986        12         NaN          27          12   \n",
      "8         NaN           4952         1         NaN          30           8   \n",
      "9         NaN           3127        21         NaN          18          19   \n",
      "\n",
      "   Unnamed: 10  Interceptions  NFL Rank.2  Unnamed: 13  Sacks  NFL Rank.3  \n",
      "0          NaN              5           2          NaN     28          12  \n",
      "1          NaN             15          26          NaN     17           3  \n",
      "2          NaN              9           8          NaN     29          15  \n",
      "3          NaN              7           5          NaN     40          27  \n",
      "4          NaN             16          27          NaN     27          11  \n",
      "5          NaN              9           8          NaN     33          19  \n",
      "6          NaN              9           8          NaN     21           6  \n",
      "7          NaN             12          15          NaN     19           5  \n",
      "8          NaN             17          28          NaN     29          15  \n",
      "9          NaN             12          15          NaN     38          24  \n"
     ]
    }
   ],
   "source": [
    "print(nfl_df.head(10))"
   ]
  },
  {
   "cell_type": "code",
   "execution_count": 22,
   "metadata": {},
   "outputs": [],
   "source": [
    "import matplotlib.pyplot as plt\n"
   ]
  },
  {
   "cell_type": "code",
   "execution_count": 23,
   "metadata": {},
   "outputs": [
    {
     "data": {
      "text/plain": [
       "<matplotlib.axes._subplots.AxesSubplot at 0x7f0005d3dd68>"
      ]
     },
     "execution_count": 23,
     "metadata": {},
     "output_type": "execute_result"
    },
    {
     "data": {
      "image/png": "[encoded data removed]",
      "text/plain": [
       "<Figure size 432x288 with 1 Axes>"
      ]
     },
     "metadata": {},
     "output_type": "display_data"
    }
   ],
   "source": [
    "nfl_df.plot(kind='scatter',x='Touchdowns',y='Passing Yards',color='red')"
   ]
  },
  {
   "cell_type": "code",
   "execution_count": null,
   "metadata": {},
   "outputs": [],
   "source": []
  }
 ],
 "metadata": {
  "kernelspec": {
   "display_name": "conda_python3",
   "language": "python",
   "name": "conda_python3"
  },
  "language_info": {
   "codemirror_mode": {
    "name": "ipython",
    "version": 3
   },
   "file_extension": ".py",
   "mimetype": "text/x-python",
   "name": "python",
   "nbconvert_exporter": "python",
   "pygments_lexer": "ipython3",
   "version": "3.6.5"
  }
 },
 "nbformat": 4,
 "nbformat_minor": 4
}
